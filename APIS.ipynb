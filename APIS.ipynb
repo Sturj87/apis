{
 "cells": [
  {
   "cell_type": "code",
   "execution_count": 10,
   "id": "1a30e77c",
   "metadata": {},
   "outputs": [],
   "source": [
    "import requests\n",
    "import pandas as pd"
   ]
  },
  {
   "cell_type": "markdown",
   "id": "bb7f8131",
   "metadata": {},
   "source": [
    "### retrieving API from NYTIMES DEV ENVIRONMENT\n",
    "### read the files as json"
   ]
  },
  {
   "cell_type": "code",
   "execution_count": 42,
   "id": "e46939b5",
   "metadata": {
    "scrolled": false
   },
   "outputs": [
    {
     "name": "stdout",
     "output_type": "stream",
     "text": [
      "{'status': 'OK', 'copyright': 'Copyright (c) 2024 The New York Times Company.  All Rights Reserved.', 'num_results': 15, 'last_modified': '2024-03-27T22:24:44-04:00', 'results': [{'list_name': 'Hardcover Fiction', 'display_name': 'Hardcover Fiction', 'bestsellers_date': '2024-03-23', 'published_date': '2024-04-07', 'rank': 1, 'rank_last_week': 1, 'weeks_on_list': 7, 'asterisk': 0, 'dagger': 0, 'amazon_product_url': 'https://www.amazon.com/dp/1250178630?tag=thenewyorktim-20', 'isbns': [{'isbn10': '1250178630', 'isbn13': '9781250178633'}, {'isbn10': '1250178657', 'isbn13': '9781250178657'}], 'book_details': [{'title': 'THE WOMEN', 'description': 'In 1965, a nursing student follows her brother to serve during the Vietnam War and returns to a divided America.', 'contributor': 'by Kristin Hannah', 'author': 'Kristin Hannah', 'contributor_note': '', 'price': '0.00', 'age_group': '', 'publisher': \"St. Martin's\", 'primary_isbn13': '9781250178633', 'primary_isbn10': '1250178630'}], 'reviews': [{'book_review_link': '', 'first_chapter_link': '', 'sunday_review_link': '', 'article_chapter_link': ''}]}, {'list_name': 'Hardcover Fiction', 'display_name': 'Hardcover Fiction', 'bestsellers_date': '2024-03-23', 'published_date': '2024-04-07', 'rank': 2, 'rank_last_week': 2, 'weeks_on_list': 46, 'asterisk': 0, 'dagger': 0, 'amazon_product_url': 'https://www.amazon.com/dp/1649374046?tag=thenewyorktim-20', 'isbns': [{'isbn10': '1649374046', 'isbn13': '9781649374042'}, {'isbn10': '1649374089', 'isbn13': '9781649374080'}, {'isbn10': '1705085059', 'isbn13': '9781705085059'}, {'isbn10': '1705085032', 'isbn13': '9781705085035'}, {'isbn10': '1649376162', 'isbn13': '9781649376169'}], 'book_details': [{'title': 'FOURTH WING', 'description': 'Violet Sorrengail is urged by the commanding general, who also is her mother, to become a candidate for the elite dragon riders.', 'contributor': 'by Rebecca Yarros', 'author': 'Rebecca Yarros', 'contributor_note': '', 'price': '0.00', 'age_group': '', 'publisher': 'Red Tower', 'primary_isbn13': '9781649374042', 'primary_isbn10': '1649374046'}], 'reviews': [{'book_review_link': '', 'first_chapter_link': '', 'sunday_review_link': '', 'article_chapter_link': ''}]}, {'list_name': 'Hardcover Fiction', 'display_name': 'Hardcover Fiction', 'bestsellers_date': '2024-03-23', 'published_date': '2024-04-07', 'rank': 3, 'rank_last_week': 0, 'weeks_on_list': 1, 'asterisk': 0, 'dagger': 0, 'amazon_product_url': 'https://www.amazon.com/dp/0316499676?tag=thenewyorktim-20', 'isbns': [{'isbn10': '0316499676', 'isbn13': '9780316499675'}, {'isbn10': '0316499692', 'isbn13': '9780316499699'}], 'book_details': [{'title': 'THE #1 LAWYER', 'description': 'A criminal defense attorney in Biloxi becomes the prime suspect in his wife’s murder.', 'contributor': 'by James Patterson and Nancy Allen', 'author': 'James Patterson and Nancy Allen', 'contributor_note': '', 'price': '0.00', 'age_group': '', 'publisher': 'Little, Brown', 'primary_isbn13': '9780316499675', 'primary_isbn10': '0316499676'}], 'reviews': [{'book_review_link': '', 'first_chapter_link': '', 'sunday_review_link': '', 'article_chapter_link': ''}]}, {'list_name': 'Hardcover Fiction', 'display_name': 'Hardcover Fiction', 'bestsellers_date': '2024-03-23', 'published_date': '2024-04-07', 'rank': 4, 'rank_last_week': 0, 'weeks_on_list': 1, 'asterisk': 0, 'dagger': 0, 'amazon_product_url': 'https://www.amazon.com/dp/0385550367?tag=thenewyorktim-20', 'isbns': [{'isbn10': '0385550367', 'isbn13': '9780385550369'}, {'isbn10': '0385550375', 'isbn13': '9780385550376'}], 'book_details': [{'title': 'JAMES', 'description': \"A reimagining of “Adventures of Huckleberry Finn” shines a different light on Mark Twain's classic, revealing new facets of the character of Jim.\", 'contributor': 'by Percival Everett', 'author': 'Percival Everett', 'contributor_note': '', 'price': '0.00', 'age_group': '', 'publisher': 'Doubleday', 'primary_isbn13': '9780385550369', 'primary_isbn10': '0385550367'}], 'reviews': [{'book_review_link': '', 'first_chapter_link': '', 'sunday_review_link': '', 'article_chapter_link': ''}]}, {'list_name': 'Hardcover Fiction', 'display_name': 'Hardcover Fiction', 'bestsellers_date': '2024-03-23', 'published_date': '2024-04-07', 'rank': 5, 'rank_last_week': 3, 'weeks_on_list': 20, 'asterisk': 0, 'dagger': 0, 'amazon_product_url': 'https://www.amazon.com/dp/1649374178?tag=thenewyorktim-20', 'isbns': [{'isbn10': '1649374178', 'isbn13': '9781649374172'}, {'isbn10': '1705085083', 'isbn13': '9781705085080'}], 'book_details': [{'title': 'IRON FLAME', 'description': 'The second book in the Empyrean series. Violet Sorrengail’s next round of training might require her to betray the man she loves.', 'contributor': 'by Rebecca Yarros', 'author': 'Rebecca Yarros', 'contributor_note': '', 'price': '0.00', 'age_group': '', 'publisher': 'Red Tower', 'primary_isbn13': '9781649374172', 'primary_isbn10': '1649374178'}], 'reviews': [{'book_review_link': '', 'first_chapter_link': '', 'sunday_review_link': '', 'article_chapter_link': ''}]}, {'list_name': 'Hardcover Fiction', 'display_name': 'Hardcover Fiction', 'bestsellers_date': '2024-03-23', 'published_date': '2024-04-07', 'rank': 6, 'rank_last_week': 6, 'weeks_on_list': 31, 'asterisk': 0, 'dagger': 0, 'amazon_product_url': 'https://www.amazon.com/dp/0593422945?tag=thenewyorktim-20', 'isbns': [{'isbn10': '0593422945', 'isbn13': '9780593422946'}, {'isbn10': '0593422961', 'isbn13': '9780593422960'}, {'isbn10': '0593684125', 'isbn13': '9780593684122'}, {'isbn10': '0593684141', 'isbn13': '9780593684146'}], 'book_details': [{'title': 'THE HEAVEN & EARTH GROCERY STORE', 'description': 'Secrets held by the residents of a dilapidated neighborhood come to life when a skeleton is found at the bottom of a well.', 'contributor': 'by James McBride', 'author': 'James McBride', 'contributor_note': '', 'price': '0.00', 'age_group': '', 'publisher': 'Riverhead', 'primary_isbn13': '9780593422946', 'primary_isbn10': '0593422945'}], 'reviews': [{'book_review_link': '', 'first_chapter_link': '', 'sunday_review_link': '', 'article_chapter_link': ''}]}, {'list_name': 'Hardcover Fiction', 'display_name': 'Hardcover Fiction', 'bestsellers_date': '2024-03-23', 'published_date': '2024-04-07', 'rank': 7, 'rank_last_week': 5, 'weeks_on_list': 4, 'asterisk': 0, 'dagger': 0, 'amazon_product_url': 'https://www.amazon.com/dp/0593599837?tag=thenewyorktim-20', 'isbns': [{'isbn10': '0593599837', 'isbn13': '9780593599839'}, {'isbn10': '0593599845', 'isbn13': '9780593599846'}], 'book_details': [{'title': 'A FATE INKED IN BLOOD', 'description': 'After the secret of her magic to repel attacks is revealed, Freya encounters dangerous tests by the gods.', 'contributor': 'by Danielle L. Jensen', 'author': 'Danielle L. Jensen', 'contributor_note': '', 'price': '0.00', 'age_group': '', 'publisher': 'Del Rey', 'primary_isbn13': '9780593599839', 'primary_isbn10': '0593599837'}], 'reviews': [{'book_review_link': '', 'first_chapter_link': '', 'sunday_review_link': '', 'article_chapter_link': ''}]}, {'list_name': 'Hardcover Fiction', 'display_name': 'Hardcover Fiction', 'bestsellers_date': '2024-03-23', 'published_date': '2024-04-07', 'rank': 8, 'rank_last_week': 0, 'weeks_on_list': 1, 'asterisk': 0, 'dagger': 0, 'amazon_product_url': 'https://www.amazon.com/dp/1982166827?tag=thenewyorktim-20', 'isbns': [{'isbn10': '1982166827', 'isbn13': '9781982166823'}], 'book_details': [{'title': 'EXPIRATION DATES', 'description': 'For 20 years, Daphne received slips of paper accurately predicting the length of her relationships. That changes when she meets Jake.', 'contributor': 'by Rebecca Serle', 'author': 'Rebecca Serle', 'contributor_note': '', 'price': '0.00', 'age_group': '', 'publisher': 'Atria', 'primary_isbn13': '9781982166823', 'primary_isbn10': '1982166827'}], 'reviews': [{'book_review_link': '', 'first_chapter_link': '', 'sunday_review_link': '', 'article_chapter_link': ''}]}, {'list_name': 'Hardcover Fiction', 'display_name': 'Hardcover Fiction', 'bestsellers_date': '2024-03-23', 'published_date': '2024-04-07', 'rank': 9, 'rank_last_week': 11, 'weeks_on_list': 43, 'asterisk': 0, 'dagger': 0, 'amazon_product_url': 'https://www.amazon.com/dp/0063204150?tag=thenewyorktim-20', 'isbns': [{'isbn10': '0063204150', 'isbn13': '9780063204157'}, {'isbn10': '0063204185', 'isbn13': '9780063204188'}, {'isbn10': '0063204169', 'isbn13': '9780063204164'}, {'isbn10': '0063204177', 'isbn13': '9780063204171'}], 'book_details': [{'title': 'REMARKABLY BRIGHT CREATURES', 'description': 'A widow working the night shift at the Sowell Bay Aquarium is aided in solving a mystery by a giant Pacific octopus living there.', 'contributor': 'by Shelby Van Pelt', 'author': 'Shel Van Pelt', 'contributor_note': '', 'price': '0.00', 'age_group': '', 'publisher': 'Ecco', 'primary_isbn13': '9780063204157', 'primary_isbn10': '0063204150'}], 'reviews': [{'book_review_link': '', 'first_chapter_link': '', 'sunday_review_link': '', 'article_chapter_link': ''}]}, {'list_name': 'Hardcover Fiction', 'display_name': 'Hardcover Fiction', 'bestsellers_date': '2024-03-23', 'published_date': '2024-04-07', 'rank': 10, 'rank_last_week': 8, 'weeks_on_list': 8, 'asterisk': 0, 'dagger': 0, 'amazon_product_url': 'https://www.amazon.com/dp/1635574102?tag=thenewyorktim-20', 'isbns': [{'isbn10': '1635574102', 'isbn13': '9781635574104'}], 'book_details': [{'title': 'HOUSE OF FLAME AND SHADOW', 'description': \"The third book in the Crescent City series. Bryce wants to return home while Hunt is trapped in Asteri's dungeons.\", 'contributor': 'by Sarah J. Maas', 'author': 'Sarah J. Maas', 'contributor_note': '', 'price': '0.00', 'age_group': '', 'publisher': 'Bloomsbury', 'primary_isbn13': '9781635574104', 'primary_isbn10': '1635574102'}], 'reviews': [{'book_review_link': '', 'first_chapter_link': '', 'sunday_review_link': '', 'article_chapter_link': ''}]}, {'list_name': 'Hardcover Fiction', 'display_name': 'Hardcover Fiction', 'bestsellers_date': '2024-03-23', 'published_date': '2024-04-07', 'rank': 11, 'rank_last_week': 12, 'weeks_on_list': 12, 'asterisk': 0, 'dagger': 0, 'amazon_product_url': 'https://www.amazon.com/dp/0593492919?tag=thenewyorktim-20', 'isbns': [{'isbn10': '0593492919', 'isbn13': '9780593492918'}, {'isbn10': '0593492927', 'isbn13': '9780593492925'}, {'isbn10': '0593789687', 'isbn13': '9780593789681'}], 'book_details': [{'title': 'FIRST LIE WINS', 'description': 'A woman who works for a mysterious boss takes on a new identity to dig up information on someone.', 'contributor': 'by Ashley Elston', 'author': 'Ashley Elston', 'contributor_note': '', 'price': '0.00', 'age_group': '', 'publisher': 'Pamela Dorman', 'primary_isbn13': '9780593492918', 'primary_isbn10': '0593492919'}], 'reviews': [{'book_review_link': '', 'first_chapter_link': '', 'sunday_review_link': '', 'article_chapter_link': ''}]}, {'list_name': 'Hardcover Fiction', 'display_name': 'Hardcover Fiction', 'bestsellers_date': '2024-03-23', 'published_date': '2024-04-07', 'rank': 12, 'rank_last_week': 7, 'weeks_on_list': 3, 'asterisk': 0, 'dagger': 0, 'amazon_product_url': 'https://www.amazon.com/dp/0593493435?tag=thenewyorktim-20', 'isbns': [{'isbn10': '0593493435', 'isbn13': '9780593493434'}, {'isbn10': '0593493443', 'isbn13': '9780593493441'}, {'isbn10': '0593827244', 'isbn13': '9780593827246'}], 'book_details': [{'title': 'THE HUNTER', 'description': 'The life that a Chicago P.D. retiree has built in Ireland with a local woman and her daughter comes under threat.', 'contributor': 'by Tana French', 'author': 'Tana French', 'contributor_note': '', 'price': '0.00', 'age_group': '', 'publisher': 'Viking', 'primary_isbn13': '9780593493434', 'primary_isbn10': '0593493435'}], 'reviews': [{'book_review_link': '', 'first_chapter_link': '', 'sunday_review_link': '', 'article_chapter_link': ''}]}, {'list_name': 'Hardcover Fiction', 'display_name': 'Hardcover Fiction', 'bestsellers_date': '2024-03-23', 'published_date': '2024-04-07', 'rank': 13, 'rank_last_week': 9, 'weeks_on_list': 4, 'asterisk': 0, 'dagger': 0, 'amazon_product_url': 'https://www.amazon.com/dp/0593331346?tag=thenewyorktim-20', 'isbns': [{'isbn10': '0593331346', 'isbn13': '9780593331347'}, {'isbn10': '0593331354', 'isbn13': '9780593331354'}], 'book_details': [{'title': 'THREE-INCH TEETH', 'description': 'The 24th book in the Joe Pickett series. A man released from prison uses grizzly bear attacks to cover his acts of revenge.', 'contributor': 'by C.J. Box', 'author': 'C.J. Box', 'contributor_note': '', 'price': '0.00', 'age_group': '', 'publisher': 'Putnam', 'primary_isbn13': '9780593331347', 'primary_isbn10': '0593331346'}], 'reviews': [{'book_review_link': '', 'first_chapter_link': '', 'sunday_review_link': '', 'article_chapter_link': ''}]}, {'list_name': 'Hardcover Fiction', 'display_name': 'Hardcover Fiction', 'bestsellers_date': '2024-03-23', 'published_date': '2024-04-07', 'rank': 14, 'rank_last_week': 14, 'weeks_on_list': 98, 'asterisk': 0, 'dagger': 0, 'amazon_product_url': 'https://www.amazon.com/dp/038554734X?tag=thenewyorktim-20', 'isbns': [{'isbn10': '038554734X', 'isbn13': '9780385547345'}, {'isbn10': '0593507533', 'isbn13': '9780593507537'}, {'isbn10': '0385547374', 'isbn13': '9780385547376'}, {'isbn10': '0593862406', 'isbn13': '9780593862407'}], 'book_details': [{'title': 'LESSONS IN CHEMISTRY', 'description': 'A scientist and single mother living in California in the 1960s becomes a star on a TV cooking show.', 'contributor': 'by Bonnie Garmus', 'author': 'Bonnie Garmus', 'contributor_note': '', 'price': '0.00', 'age_group': '', 'publisher': 'Doubleday', 'primary_isbn13': '9780385547345', 'primary_isbn10': '038554734X'}], 'reviews': [{'book_review_link': '', 'first_chapter_link': '', 'sunday_review_link': '', 'article_chapter_link': ''}]}, {'list_name': 'Hardcover Fiction', 'display_name': 'Hardcover Fiction', 'bestsellers_date': '2024-03-23', 'published_date': '2024-04-07', 'rank': 15, 'rank_last_week': 0, 'weeks_on_list': 7, 'asterisk': 0, 'dagger': 0, 'amazon_product_url': 'https://www.amazon.com/dp/1250334209?tag=thenewyorktim-20', 'isbns': [{'isbn10': '1250334209', 'isbn13': '9781250334206'}, {'isbn10': '1250334217', 'isbn13': '9781250334213'}], 'book_details': [{'title': 'GOTHIKANA', 'description': 'A century-old mystery brings Corvina Clemm and Vad Deverell together at a university based in a castle at the top of a mountain with a dark history.', 'contributor': 'by RuNyx', 'author': 'RuNyx', 'contributor_note': '', 'price': '0.00', 'age_group': '', 'publisher': 'Bramble', 'primary_isbn13': '9781250334206', 'primary_isbn10': '1250334209'}], 'reviews': [{'book_review_link': '', 'first_chapter_link': '', 'sunday_review_link': '', 'article_chapter_link': ''}]}]}\n"
     ]
    }
   ],
   "source": [
    "myapi = 'rmBfCBnooDjPcpyQ8j9sDVsPIH2muvmR'\n",
    "url = f\"https://api.nytimes.com/svc/books/v3/lists.json?api-key={myapi}&list=hardcover-fiction&date=2024-01-01\"\n",
    "print(response.json())\n",
    "\n"
   ]
  },
  {
   "cell_type": "markdown",
   "id": "cee5da23",
   "metadata": {},
   "source": [
    "### Tranform to pandas"
   ]
  },
  {
   "cell_type": "code",
   "execution_count": 30,
   "id": "58b3a9f8",
   "metadata": {},
   "outputs": [
    {
     "data": {
      "text/html": [
       "<div>\n",
       "<style scoped>\n",
       "    .dataframe tbody tr th:only-of-type {\n",
       "        vertical-align: middle;\n",
       "    }\n",
       "\n",
       "    .dataframe tbody tr th {\n",
       "        vertical-align: top;\n",
       "    }\n",
       "\n",
       "    .dataframe thead th {\n",
       "        text-align: right;\n",
       "    }\n",
       "</style>\n",
       "<table border=\"1\" class=\"dataframe\">\n",
       "  <thead>\n",
       "    <tr style=\"text-align: right;\">\n",
       "      <th></th>\n",
       "      <th>list_name</th>\n",
       "      <th>display_name</th>\n",
       "      <th>bestsellers_date</th>\n",
       "      <th>published_date</th>\n",
       "      <th>rank</th>\n",
       "      <th>rank_last_week</th>\n",
       "      <th>weeks_on_list</th>\n",
       "      <th>asterisk</th>\n",
       "      <th>dagger</th>\n",
       "      <th>amazon_product_url</th>\n",
       "      <th>isbns</th>\n",
       "      <th>book_details</th>\n",
       "      <th>reviews</th>\n",
       "    </tr>\n",
       "  </thead>\n",
       "  <tbody>\n",
       "    <tr>\n",
       "      <th>0</th>\n",
       "      <td>Hardcover Fiction</td>\n",
       "      <td>Hardcover Fiction</td>\n",
       "      <td>2024-03-23</td>\n",
       "      <td>2024-04-07</td>\n",
       "      <td>1</td>\n",
       "      <td>1</td>\n",
       "      <td>7</td>\n",
       "      <td>0</td>\n",
       "      <td>0</td>\n",
       "      <td>https://www.amazon.com/dp/1250178630?tag=thene...</td>\n",
       "      <td>[{'isbn10': '1250178630', 'isbn13': '978125017...</td>\n",
       "      <td>[{'title': 'THE WOMEN', 'description': 'In 196...</td>\n",
       "      <td>[{'book_review_link': '', 'first_chapter_link'...</td>\n",
       "    </tr>\n",
       "    <tr>\n",
       "      <th>1</th>\n",
       "      <td>Hardcover Fiction</td>\n",
       "      <td>Hardcover Fiction</td>\n",
       "      <td>2024-03-23</td>\n",
       "      <td>2024-04-07</td>\n",
       "      <td>2</td>\n",
       "      <td>2</td>\n",
       "      <td>46</td>\n",
       "      <td>0</td>\n",
       "      <td>0</td>\n",
       "      <td>https://www.amazon.com/dp/1649374046?tag=thene...</td>\n",
       "      <td>[{'isbn10': '1649374046', 'isbn13': '978164937...</td>\n",
       "      <td>[{'title': 'FOURTH WING', 'description': 'Viol...</td>\n",
       "      <td>[{'book_review_link': '', 'first_chapter_link'...</td>\n",
       "    </tr>\n",
       "    <tr>\n",
       "      <th>2</th>\n",
       "      <td>Hardcover Fiction</td>\n",
       "      <td>Hardcover Fiction</td>\n",
       "      <td>2024-03-23</td>\n",
       "      <td>2024-04-07</td>\n",
       "      <td>3</td>\n",
       "      <td>0</td>\n",
       "      <td>1</td>\n",
       "      <td>0</td>\n",
       "      <td>0</td>\n",
       "      <td>https://www.amazon.com/dp/0316499676?tag=thene...</td>\n",
       "      <td>[{'isbn10': '0316499676', 'isbn13': '978031649...</td>\n",
       "      <td>[{'title': 'THE #1 LAWYER', 'description': 'A ...</td>\n",
       "      <td>[{'book_review_link': '', 'first_chapter_link'...</td>\n",
       "    </tr>\n",
       "    <tr>\n",
       "      <th>3</th>\n",
       "      <td>Hardcover Fiction</td>\n",
       "      <td>Hardcover Fiction</td>\n",
       "      <td>2024-03-23</td>\n",
       "      <td>2024-04-07</td>\n",
       "      <td>4</td>\n",
       "      <td>0</td>\n",
       "      <td>1</td>\n",
       "      <td>0</td>\n",
       "      <td>0</td>\n",
       "      <td>https://www.amazon.com/dp/0385550367?tag=thene...</td>\n",
       "      <td>[{'isbn10': '0385550367', 'isbn13': '978038555...</td>\n",
       "      <td>[{'title': 'JAMES', 'description': 'A reimagin...</td>\n",
       "      <td>[{'book_review_link': '', 'first_chapter_link'...</td>\n",
       "    </tr>\n",
       "    <tr>\n",
       "      <th>4</th>\n",
       "      <td>Hardcover Fiction</td>\n",
       "      <td>Hardcover Fiction</td>\n",
       "      <td>2024-03-23</td>\n",
       "      <td>2024-04-07</td>\n",
       "      <td>5</td>\n",
       "      <td>3</td>\n",
       "      <td>20</td>\n",
       "      <td>0</td>\n",
       "      <td>0</td>\n",
       "      <td>https://www.amazon.com/dp/1649374178?tag=thene...</td>\n",
       "      <td>[{'isbn10': '1649374178', 'isbn13': '978164937...</td>\n",
       "      <td>[{'title': 'IRON FLAME', 'description': 'The s...</td>\n",
       "      <td>[{'book_review_link': '', 'first_chapter_link'...</td>\n",
       "    </tr>\n",
       "  </tbody>\n",
       "</table>\n",
       "</div>"
      ],
      "text/plain": [
       "           list_name       display_name bestsellers_date published_date  rank  \\\n",
       "0  Hardcover Fiction  Hardcover Fiction       2024-03-23     2024-04-07     1   \n",
       "1  Hardcover Fiction  Hardcover Fiction       2024-03-23     2024-04-07     2   \n",
       "2  Hardcover Fiction  Hardcover Fiction       2024-03-23     2024-04-07     3   \n",
       "3  Hardcover Fiction  Hardcover Fiction       2024-03-23     2024-04-07     4   \n",
       "4  Hardcover Fiction  Hardcover Fiction       2024-03-23     2024-04-07     5   \n",
       "\n",
       "   rank_last_week  weeks_on_list  asterisk  dagger  \\\n",
       "0               1              7         0       0   \n",
       "1               2             46         0       0   \n",
       "2               0              1         0       0   \n",
       "3               0              1         0       0   \n",
       "4               3             20         0       0   \n",
       "\n",
       "                                  amazon_product_url  \\\n",
       "0  https://www.amazon.com/dp/1250178630?tag=thene...   \n",
       "1  https://www.amazon.com/dp/1649374046?tag=thene...   \n",
       "2  https://www.amazon.com/dp/0316499676?tag=thene...   \n",
       "3  https://www.amazon.com/dp/0385550367?tag=thene...   \n",
       "4  https://www.amazon.com/dp/1649374178?tag=thene...   \n",
       "\n",
       "                                               isbns  \\\n",
       "0  [{'isbn10': '1250178630', 'isbn13': '978125017...   \n",
       "1  [{'isbn10': '1649374046', 'isbn13': '978164937...   \n",
       "2  [{'isbn10': '0316499676', 'isbn13': '978031649...   \n",
       "3  [{'isbn10': '0385550367', 'isbn13': '978038555...   \n",
       "4  [{'isbn10': '1649374178', 'isbn13': '978164937...   \n",
       "\n",
       "                                        book_details  \\\n",
       "0  [{'title': 'THE WOMEN', 'description': 'In 196...   \n",
       "1  [{'title': 'FOURTH WING', 'description': 'Viol...   \n",
       "2  [{'title': 'THE #1 LAWYER', 'description': 'A ...   \n",
       "3  [{'title': 'JAMES', 'description': 'A reimagin...   \n",
       "4  [{'title': 'IRON FLAME', 'description': 'The s...   \n",
       "\n",
       "                                             reviews  \n",
       "0  [{'book_review_link': '', 'first_chapter_link'...  \n",
       "1  [{'book_review_link': '', 'first_chapter_link'...  \n",
       "2  [{'book_review_link': '', 'first_chapter_link'...  \n",
       "3  [{'book_review_link': '', 'first_chapter_link'...  \n",
       "4  [{'book_review_link': '', 'first_chapter_link'...  "
      ]
     },
     "execution_count": 30,
     "metadata": {},
     "output_type": "execute_result"
    }
   ],
   "source": [
    "books = data['results']\n",
    "df = pd.DataFrame(books)\n",
    "df.head()"
   ]
  },
  {
   "cell_type": "code",
   "execution_count": null,
   "id": "93f0db06",
   "metadata": {},
   "outputs": [],
   "source": []
  }
 ],
 "metadata": {
  "kernelspec": {
   "display_name": "Python 3 (ipykernel)",
   "language": "python",
   "name": "python3"
  },
  "language_info": {
   "codemirror_mode": {
    "name": "ipython",
    "version": 3
   },
   "file_extension": ".py",
   "mimetype": "text/x-python",
   "name": "python",
   "nbconvert_exporter": "python",
   "pygments_lexer": "ipython3",
   "version": "3.11.5"
  }
 },
 "nbformat": 4,
 "nbformat_minor": 5
}
